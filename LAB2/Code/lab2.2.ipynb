{
 "cells": [
  {
   "cell_type": "code",
   "execution_count": 1,
   "metadata": {},
   "outputs": [],
   "source": [
    "import numpy as np\n",
    "import csv"
   ]
  },
  {
   "cell_type": "code",
   "execution_count": 6,
   "metadata": {},
   "outputs": [
    {
     "name": "stdout",
     "output_type": "stream",
     "text": [
      "Lỗi: Giá trị không hợp lệ trong dòng ['id', 'Tên sinh viên', 'HP 1', 'HP 2', 'HP 3']\n",
      "Dữ liệu (list): [1.0, 2.0, 3.0, 4.0, 5.0, 6.0, 7.0, 8.0, 9.0, 10.0, 11.0, 12.0, 13.0, 14.0, 15.0, 16.0, 17.0, 18.0, 19.0, 20.0, 21.0, 22.0, 23.0, 24.0, 25.0, 26.0, 27.0, 28.0, 29.0, 30.0]\n",
      "Dữ liệu numpy: [ 1.  2.  3.  4.  5.  6.  7.  8.  9. 10. 11. 12. 13. 14. 15. 16. 17. 18.\n",
      " 19. 20. 21. 22. 23. 24. 25. 26. 27. 28. 29. 30.]\n"
     ]
    }
   ],
   "source": [
    "# Đọc dữ liệu từ file csv\n",
    "file_path = 'diem_hoc_phan.csv'\n",
    "data = []\n",
    "\n",
    "# Đọc file csv vào list \n",
    "def read_file_csv(file_path):\n",
    "    with open(file_path, 'r', encoding = 'utf-8') as file:\n",
    "        reader = csv.reader(file)\n",
    "        for row in reader:\n",
    "            try:\n",
    "                data.append(float(row[0]))  # Chuyển từng giá trị thành float\n",
    "            except ValueError:\n",
    "                print(f\"Lỗi: Giá trị không hợp lệ trong dòng {row}\")\n",
    "    return data\n",
    "data = read_file_csv(file_path)\n",
    "# Chuyển đổi list thành mảng numpy \n",
    "data_array = np.array(data)\n",
    "print(\"Dữ liệu (list):\", data)\n",
    "print(\"Dữ liệu numpy:\", data_array)"
   ]
  },
  {
   "cell_type": "code",
   "execution_count": 9,
   "metadata": {},
   "outputs": [
    {
     "name": "stdout",
     "output_type": "stream",
     "text": [
      "Điểm tín chỉ tương ứng: ['F', 'F', 'F', 'D', 'D+', 'C', 'B', 'B+', 'A', 'A', 'F', 'F', 'F', 'F', 'F', 'F', 'F', 'F', 'F', 'F', 'F', 'F', 'F', 'F', 'F', 'F', 'F', 'F', 'F', 'F']\n"
     ]
    }
   ],
   "source": [
    "# Quy đổi từ thang điểm 10 sang điểm tín chỉ \n",
    "def quy_doi(diem):\n",
    "    if 8.5 <= diem <= 10:\n",
    "        return 'A'\n",
    "    elif 8.0 <= diem < 8.5:\n",
    "        return 'B+'\n",
    "    elif 7.0 <= diem < 8.0:\n",
    "        return 'B'\n",
    "    elif 6.5 <= diem < 7.0:\n",
    "        return 'C+'\n",
    "    elif 5.5 <= diem < 6.5:\n",
    "        return 'C'\n",
    "    elif 5.0 <= diem < 5.5:\n",
    "        return 'D+'\n",
    "    elif 4.0 <= diem < 5.0:\n",
    "        return 'D'\n",
    "    else:\n",
    "        return 'F'\n",
    "\n",
    "# Áp dụng quy đổi\n",
    "diem_tin_chi = [quy_doi(diem) for diem in data_array]\n",
    "print(\"Điểm tín chỉ tương ứng:\", diem_tin_chi)\n"
   ]
  },
  {
   "cell_type": "code",
   "execution_count": null,
   "metadata": {},
   "outputs": [],
   "source": []
  }
 ],
 "metadata": {
  "kernelspec": {
   "display_name": "Python 3",
   "language": "python",
   "name": "python3"
  },
  "language_info": {
   "codemirror_mode": {
    "name": "ipython",
    "version": 3
   },
   "file_extension": ".py",
   "mimetype": "text/x-python",
   "name": "python",
   "nbconvert_exporter": "python",
   "pygments_lexer": "ipython3",
   "version": "3.12.0"
  }
 },
 "nbformat": 4,
 "nbformat_minor": 2
}
