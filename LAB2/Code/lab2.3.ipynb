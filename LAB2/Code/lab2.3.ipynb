{
 "cells": [
  {
   "cell_type": "markdown",
   "metadata": {},
   "source": [
    "# Phân tích hiệu suất sản xuất dựa trên ca làm việc"
   ]
  },
  {
   "cell_type": "code",
   "execution_count": 4,
   "metadata": {},
   "outputs": [
    {
     "name": "stdout",
     "output_type": "stream",
     "text": [
      "Dữ liệu efficiency:  [94.0, 97.0, 114.0, 117.0, 117.0, 59.0, 133.0, 71.0, 86.0, 137.0, 120.0, 138.0, 138.0, 62.0, 108.0, 115.0, 89.0, 137.0, 96.0, 138.0, 131.0, 87.0, 75.0, 127.0, 122.0, 59.0, 70.0, 130.0, 119.0, 129.0, 97.0, 114.0, 132.0, 149.0, 138.0, 99.0, 79.0, 69.0, 69.0, 64.0, 89.0, 82.0, 115.0, 59.0, 107.0, 82.0, 81.0, 124.0, 73.0, 85.0, 125.0, 105.0, 78.0, 84.0, 50.0, 50.0, 86.0, 103.0, 55.0, 88.0, 67.0, 129.0, 54.0, 92.0, 108.0, 81.0, 51.0, 115.0, 91.0, 107.0, 85.0, 61.0, 96.0, 132.0, 141.0, 50.0, 64.0, 149.0, 103.0, 62.0, 92.0, 134.0, 125.0, 118.0, 56.0, 118.0, 97.0, 53.0, 126.0, 102.0, 128.0, 65.0, 70.0, 149.0, 108.0, 73.0, 129.0, 63.0, 135.0, 98.0]\n",
      "Dữ liệu shfts:  ['Afternoon', 'Afternoon', 'Afternoon', 'Morning', 'Afternoon', 'Night', 'Morning', 'Afternoon', 'Night', 'Morning', 'Night', 'Morning', 'Afternoon', 'Night', 'Night', 'Afternoon', 'Morning', 'Afternoon', 'Afternoon', 'Morning', 'Night', 'Night', 'Night', 'Night', 'Afternoon', 'Night', 'Night', 'Night', 'Night', 'Night', 'Morning', 'Afternoon', 'Night', 'Night', 'Afternoon', 'Night', 'Afternoon', 'Morning', 'Night', 'Night', 'Morning', 'Night', 'Morning', 'Morning', 'Night', 'Morning', 'Night', 'Night', 'Night', 'Morning', 'Morning', 'Morning', 'Afternoon', 'Night', 'Morning', 'Afternoon', 'Night', 'Night', 'Night', 'Afternoon', 'Morning', 'Morning', 'Morning', 'Morning', 'Night', 'Night', 'Morning', 'Morning', 'Morning', 'Afternoon', 'Night', 'Morning', 'Morning', 'Afternoon', 'Morning', 'Night', 'Afternoon', 'Afternoon', 'Afternoon', 'Morning', 'Morning', 'Morning', 'Afternoon', 'Afternoon', 'Night', 'Afternoon', 'Morning', 'Morning', 'Afternoon', 'Night', 'Afternoon', 'Afternoon', 'Afternoon', 'Morning', 'Morning', 'Morning', 'Afternoon', 'Night', 'Afternoon', 'Afternoon']\n"
     ]
    }
   ],
   "source": [
    "#1 # Đọc dữ liệu từ tệp\n",
    "with open('efficiency.txt', 'r') as f:\n",
    "    efficiency = [float(line.strip()) for line in f.readlines()]\n",
    "\n",
    "with open('shifts.txt', 'r') as f:\n",
    "    shifts = [line.strip() for line in f.readlines()]\n",
    "\n",
    "print(\"Dữ liệu efficiency: \",efficiency)\n",
    "print(\"Dữ liệu shfts: \", shifts)"
   ]
  },
  {
   "cell_type": "code",
   "execution_count": 6,
   "metadata": {},
   "outputs": [
    {
     "name": "stdout",
     "output_type": "stream",
     "text": [
      "Kiểu dữ liệu của np_shifts: <U9\n"
     ]
    }
   ],
   "source": [
    "# 2\n",
    "import numpy as np\n",
    "np_shifts = np.array(shifts)\n",
    "print(\"Kiểu dữ liệu của np_shifts:\", np_shifts.dtype)"
   ]
  },
  {
   "cell_type": "code",
   "execution_count": 7,
   "metadata": {},
   "outputs": [
    {
     "name": "stdout",
     "output_type": "stream",
     "text": [
      "Kiểu dữ liệu của np_efficiency: float64\n"
     ]
    }
   ],
   "source": [
    "#3\n",
    "np_efficiency = np.array(efficiency)\n",
    "print(\"Kiểu dữ liệu của np_efficiency:\", np_efficiency.dtype)"
   ]
  },
  {
   "cell_type": "code",
   "execution_count": 10,
   "metadata": {},
   "outputs": [
    {
     "name": "stdout",
     "output_type": "stream",
     "text": [
      "Hiệu suất trung bình của ca 'Morning': 96.8529411764706\n"
     ]
    }
   ],
   "source": [
    "#4 \n",
    "hieu_suat_ca_morning = np_efficiency[np_shifts == 'Morning']\n",
    "tb_ca_morning = np.mean(hieu_suat_ca_morning)\n",
    "print(\"Hiệu suất trung bình của ca 'Morning':\", tb_ca_morning)"
   ]
  },
  {
   "cell_type": "code",
   "execution_count": 9,
   "metadata": {},
   "outputs": [
    {
     "name": "stdout",
     "output_type": "stream",
     "text": [
      "Hiệu suất trung bình của các ca khác: 98.93939393939394\n"
     ]
    }
   ],
   "source": [
    "#5\n",
    "hieu_suat_ca_khac = np_efficiency[np_shifts != 'Morning']\n",
    "tb_ca_khac = np.mean(hieu_suat_ca_khac)\n",
    "print(\"Hiệu suất trung bình của các ca khác:\", tb_ca_khac)"
   ]
  },
  {
   "cell_type": "code",
   "execution_count": 11,
   "metadata": {},
   "outputs": [
    {
     "name": "stdout",
     "output_type": "stream",
     "text": [
      "Mảng dữ liệu có cấu trúc workers:\n",
      " [('Afternoon',  94.) ('Afternoon',  97.) ('Afternoon', 114.)\n",
      " ('Morning', 117.) ('Afternoon', 117.) ('Night',  59.) ('Morning', 133.)\n",
      " ('Afternoon',  71.) ('Night',  86.) ('Morning', 137.) ('Night', 120.)\n",
      " ('Morning', 138.) ('Afternoon', 138.) ('Night',  62.) ('Night', 108.)\n",
      " ('Afternoon', 115.) ('Morning',  89.) ('Afternoon', 137.)\n",
      " ('Afternoon',  96.) ('Morning', 138.) ('Night', 131.) ('Night',  87.)\n",
      " ('Night',  75.) ('Night', 127.) ('Afternoon', 122.) ('Night',  59.)\n",
      " ('Night',  70.) ('Night', 130.) ('Night', 119.) ('Night', 129.)\n",
      " ('Morning',  97.) ('Afternoon', 114.) ('Night', 132.) ('Night', 149.)\n",
      " ('Afternoon', 138.) ('Night',  99.) ('Afternoon',  79.) ('Morning',  69.)\n",
      " ('Night',  69.) ('Night',  64.) ('Morning',  89.) ('Night',  82.)\n",
      " ('Morning', 115.) ('Morning',  59.) ('Night', 107.) ('Morning',  82.)\n",
      " ('Night',  81.) ('Night', 124.) ('Night',  73.) ('Morning',  85.)\n",
      " ('Morning', 125.) ('Morning', 105.) ('Afternoon',  78.) ('Night',  84.)\n",
      " ('Morning',  50.) ('Afternoon',  50.) ('Night',  86.) ('Night', 103.)\n",
      " ('Night',  55.) ('Afternoon',  88.) ('Morning',  67.) ('Morning', 129.)\n",
      " ('Morning',  54.) ('Morning',  92.) ('Night', 108.) ('Night',  81.)\n",
      " ('Morning',  51.) ('Morning', 115.) ('Morning',  91.) ('Afternoon', 107.)\n",
      " ('Night',  85.) ('Morning',  61.) ('Morning',  96.) ('Afternoon', 132.)\n",
      " ('Morning', 141.) ('Night',  50.) ('Afternoon',  64.) ('Afternoon', 149.)\n",
      " ('Afternoon', 103.) ('Morning',  62.) ('Morning',  92.) ('Morning', 134.)\n",
      " ('Afternoon', 125.) ('Afternoon', 118.) ('Night',  56.)\n",
      " ('Afternoon', 118.) ('Morning',  97.) ('Morning',  53.)\n",
      " ('Afternoon', 126.) ('Night', 102.) ('Afternoon', 128.)\n",
      " ('Afternoon',  65.) ('Afternoon',  70.) ('Morning', 149.)\n",
      " ('Morning', 108.) ('Morning',  73.) ('Afternoon', 129.) ('Night',  63.)\n",
      " ('Afternoon', 135.) ('Afternoon',  98.)]\n"
     ]
    }
   ],
   "source": [
    "#6, \n",
    "workers = np.zeros(len(np_shifts), dtype={'names': ('shift', 'efficiency'), \n",
    "                                          'formats': ('U10', 'f4')})\n",
    "\n",
    "workers['shift'] = np_shifts\n",
    "workers['efficiency'] = np_efficiency\n",
    "print(\"Mảng dữ liệu có cấu trúc workers:\\n\", workers)\n"
   ]
  },
  {
   "cell_type": "code",
   "execution_count": 12,
   "metadata": {},
   "outputs": [
    {
     "name": "stdout",
     "output_type": "stream",
     "text": [
      "Ca làm việc có hiệu suất cao nhất: Night\n",
      "Ca làm việc có hiệu suất thấp nhất: Afternoon\n"
     ]
    }
   ],
   "source": [
    "#7 \n",
    "sap_xep = np.sort(workers, order='efficiency')\n",
    "\n",
    "ca_lam_viec_hieu_suat_cao_nhat = sap_xep[-1]['shift']\n",
    "ca_lam_viec_hieu_suat_thap_nhat= sap_xep[0]['shift']\n",
    "\n",
    "print(\"Ca làm việc có hiệu suất cao nhất:\", ca_lam_viec_hieu_suat_cao_nhat)\n",
    "print(\"Ca làm việc có hiệu suất thấp nhất:\", ca_lam_viec_hieu_suat_thap_nhat)\n"
   ]
  }
 ],
 "metadata": {
  "kernelspec": {
   "display_name": "Python 3",
   "language": "python",
   "name": "python3"
  },
  "language_info": {
   "codemirror_mode": {
    "name": "ipython",
    "version": 3
   },
   "file_extension": ".py",
   "mimetype": "text/x-python",
   "name": "python",
   "nbconvert_exporter": "python",
   "pygments_lexer": "ipython3",
   "version": "3.12.0"
  }
 },
 "nbformat": 4,
 "nbformat_minor": 2
}
