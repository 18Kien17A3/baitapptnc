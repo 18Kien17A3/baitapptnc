{
 "cells": [
  {
   "cell_type": "code",
   "execution_count": 12,
   "metadata": {},
   "outputs": [
    {
     "name": "stdout",
     "output_type": "stream",
     "text": [
      "Nhiệt độ hằng ngày trong tháng:\n",
      "[20.98 24.3  22.06 20.9  18.47 22.92 18.75 27.84 29.27 17.67 25.83 20.58\n",
      " 21.36 28.51 11.42 11.74 10.4  26.65 25.56 27.4  29.57 25.98 19.23 25.61\n",
      " 12.37 22.8  12.87 28.89 20.44 18.29]\n",
      "\n",
      " Nhiệt độ trung bình trong tháng: 21.62 độ C\n"
     ]
    }
   ],
   "source": [
    "# 1, Tạo dữ liệu mô phỏng nhiệt độ\n",
    "\"\"\" Yêu cầu: \n",
    "Tạo một mảng numpy mô phỏng dữ liệu nhiệt độ hằng ngày trong 1 tháng \n",
    "Sô thực. Làm tròn dữ liệu đến 2 chữ số thập phân\n",
    "Tính nhiệt độ trung bình của tháng \n",
    " \"\"\"\n",
    "\n",
    "import numpy as np\n",
    "np.random.seed(0)\n",
    "nhiet_do = np.round(np.random.uniform(10,30,30), 2)\n",
    "\n",
    "print(\"Nhiệt độ hằng ngày trong tháng:\")\n",
    "print(nhiet_do)\n",
    "\n",
    "# Tính nhiệt độ trung bình \n",
    "nhiet_do_tb = np.mean(nhiet_do)\n",
    "print(f\"\\n Nhiệt độ trung bình trong tháng: {nhiet_do_tb:.2f} độ C\")"
   ]
  },
  {
   "cell_type": "code",
   "execution_count": 15,
   "metadata": {},
   "outputs": [
    {
     "name": "stdout",
     "output_type": "stream",
     "text": [
      "\n",
      " Nhiệt độ cao nhất:29.57 độ C, vào ngày thứ 21\n",
      "Nhiệt độ thấp nhất:10.4 độ C, vào ngày thứ17\n"
     ]
    },
    {
     "data": {
      "text/plain": [
       "array([ 3.32,  2.24,  1.16,  2.43,  4.45,  4.17,  9.09,  1.43, 11.6 ,\n",
       "        8.16,  5.25,  0.78,  7.15, 17.09,  0.32,  1.34, 16.25,  1.09,\n",
       "        1.84,  2.17,  3.59,  6.75,  6.38, 13.24, 10.43,  9.93, 16.02,\n",
       "        8.45,  2.15])"
      ]
     },
     "execution_count": 15,
     "metadata": {},
     "output_type": "execute_result"
    }
   ],
   "source": [
    "# 2, Phân tích xu hướng nhiệt độ \n",
    "# Tìm ngày có nhiệt độ cao nhất và thấp nhất \n",
    "max_temp = np.max(nhiet_do)\n",
    "min_temp = np.min(nhiet_do)\n",
    "\n",
    "day_max_temp = np.argmax(nhiet_do) + 1 # Ngày có nhiệt độ cao nhất (index+!)\n",
    "day_min_temp = np.argmin(nhiet_do) + 1 \n",
    "\n",
    "print(f\"\\n Nhiệt độ cao nhất:{max_temp} độ C, vào ngày thứ {day_max_temp}\")\n",
    "print(f\"Nhiệt độ thấp nhất:{min_temp} độ C, vào ngày thứ{day_min_temp}\")\n",
    "\n",
    "# Tính sự chênh lệch nhiệt độ giữa các ngày \n",
    "temp_diff = np.abs(np.diff(nhiet_do))\n",
    "temp_diff"
   ]
  },
  {
   "cell_type": "code",
   "execution_count": 4,
   "metadata": {},
   "outputs": [
    {
     "name": "stdout",
     "output_type": "stream",
     "text": [
      "\n",
      " Nhiệt độ các ngày >20 độ C\n"
     ]
    },
    {
     "data": {
      "text/plain": [
       "array([20.98, 24.3 , 22.06, 20.9 , 22.92, 27.84, 29.27, 25.83, 20.58,\n",
       "       21.36, 28.51, 26.65, 25.56, 27.4 , 29.57, 25.98, 25.61, 22.8 ,\n",
       "       28.89, 20.44])"
      ]
     },
     "execution_count": 4,
     "metadata": {},
     "output_type": "execute_result"
    }
   ],
   "source": [
    "# 3, Áp dụng fancy indexing\n",
    "# +, Các ngày có nhiệt độ cao hơn 20 độ \n",
    "day_tren_20_do = nhiet_do[nhiet_do>20]\n",
    "print(\"\\n Nhiệt độ các ngày >20 độ C\")\n",
    "day_tren_20_do"
   ]
  },
  {
   "cell_type": "code",
   "execution_count": 5,
   "metadata": {},
   "outputs": [
    {
     "name": "stdout",
     "output_type": "stream",
     "text": [
      "Nhiệt độ các ngày 5, 10, 15, 20, 25 là: [18.47 17.67 11.42 27.4  12.37]\n"
     ]
    }
   ],
   "source": [
    "# +, Lấy nhiệt độ của các ngày 5, 10, 15, 20, 25 \n",
    "nhiet_do_cac_ngay = nhiet_do[[4,9,14,19,24]]\n",
    "print(\"Nhiệt độ các ngày 5, 10, 15, 20, 25 là:\", nhiet_do_cac_ngay)\n"
   ]
  },
  {
   "cell_type": "code",
   "execution_count": 4,
   "metadata": {},
   "outputs": [
    {
     "name": "stdout",
     "output_type": "stream",
     "text": [
      "Ngày có nhiệt độ trên trung bình là: [ 2  3  6  8  9 11 14 18 19 20 21 22 24 26 28]\n"
     ]
    }
   ],
   "source": [
    "# Tìm nhiệt độ của các ngày có nhiệt độ trên trung bình\n",
    "ngay_nhiet_do_tren_tb = np.where(nhiet_do > nhiet_do_tb)[0] + 1\n",
    "print(\"Ngày có nhiệt độ trên trung bình là:\", ngay_nhiet_do_tren_tb)\n"
   ]
  },
  {
   "cell_type": "code",
   "execution_count": 5,
   "metadata": {},
   "outputs": [
    {
     "name": "stdout",
     "output_type": "stream",
     "text": [
      "Nhiệt độ của các ngày chẵn trong tháng là: [24.3  20.9  22.92 27.84 17.67 20.58 28.51 11.74 26.65 27.4  25.98 25.61\n",
      " 22.8  28.89 18.29]\n",
      "Nhiệt độ của các ngày lẻ trong tháng là: [20.98 22.06 18.47 18.75 29.27 25.83 21.36 11.42 10.4  25.56 29.57 19.23\n",
      " 12.37 12.87 20.44]\n"
     ]
    }
   ],
   "source": [
    "# Lấy nhiệt độ của các ngày chẵn và lẻ trong tháng \n",
    "nhiet_do_ngay_chan  =  nhiet_do[1::2]\n",
    "nhiet_do_ngay_le = nhiet_do[0::2]\n",
    "print(\"Nhiệt độ của các ngày chẵn trong tháng là:\", nhiet_do_ngay_chan)\n",
    "print(\"Nhiệt độ của các ngày lẻ trong tháng là:\", nhiet_do_ngay_le)"
   ]
  }
 ],
 "metadata": {
  "kernelspec": {
   "display_name": "Python 3",
   "language": "python",
   "name": "python3"
  },
  "language_info": {
   "codemirror_mode": {
    "name": "ipython",
    "version": 3
   },
   "file_extension": ".py",
   "mimetype": "text/x-python",
   "name": "python",
   "nbconvert_exporter": "python",
   "pygments_lexer": "ipython3",
   "version": "3.12.0"
  }
 },
 "nbformat": 4,
 "nbformat_minor": 2
}
