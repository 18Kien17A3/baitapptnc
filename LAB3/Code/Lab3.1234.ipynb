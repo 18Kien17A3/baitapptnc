{
 "cells": [
  {
   "cell_type": "markdown",
   "metadata": {},
   "source": [
    "# 3.1 Khám phá dữ liệu"
   ]
  },
  {
   "cell_type": "code",
   "execution_count": 3,
   "metadata": {},
   "outputs": [],
   "source": [
    "import pandas as pd"
   ]
  },
  {
   "cell_type": "code",
   "execution_count": 5,
   "metadata": {},
   "outputs": [
    {
     "name": "stdout",
     "output_type": "stream",
     "text": [
      "        date symbol     open     high      low    close    volume\n",
      "0   01-03-19   AMZN  1655.13  1674.26  1651.00  1671.73   4974877\n",
      "1   04-03-19   AMZN  1685.00  1709.43  1674.36  1696.17   6167358\n",
      "2   05-03-19   AMZN  1702.95  1707.80  1689.01  1692.43   3681522\n",
      "3   06-03-19   AMZN  1695.97      NaN      NaN  1668.95   3996001\n",
      "4   07-03-19   AMZN  1667.37  1669.75  1620.51  1625.95   4957017\n",
      "5   01-03-19   AAPL   174.28   175.15   172.89   174.97  25886167\n",
      "6   04-03-19   AAPL   175.69   177.75   173.97   175.85  27436203\n",
      "7   05-03-19   AAPL   175.94   176.00   174.54   175.53  19737419\n",
      "8   06-03-19   AAPL   174.67   175.49   173.94   174.52  20810384\n",
      "9   07-03-19   AAPL   173.87   174.44   172.02   172.50  24796374\n",
      "10  01-03-19   GOOG  1124.90  1142.97  1124.75  1140.99   1450316\n",
      "11  04-03-19   GOOG  1146.99  1158.28  1130.69  1147.80   1446047\n",
      "12  05-03-19   GOOG  1150.06      NaN      NaN  1162.03   1443174\n",
      "13  06-03-19   GOOG  1162.49  1167.57  1155.49  1157.86   1099289\n",
      "14  07-03-19   GOOG  1155.72  1156.76  1134.91  1143.30   1166559\n"
     ]
    }
   ],
   "source": [
    "#1 Đọc file stocks1.csv vào DataFrame stocks1 \n",
    "file_path = r\"D:\\17A3KHDL\\LAB3\\Data\\stocks1.csv\"\n",
    "stocks1 = pd.read_csv(file_path)\n",
    "print(stocks1)"
   ]
  },
  {
   "cell_type": "code",
   "execution_count": 12,
   "metadata": {},
   "outputs": [
    {
     "name": "stdout",
     "output_type": "stream",
     "text": [
      "\n",
      "5 dòng đầu tiên của stocks1\n",
      "       date symbol     open     high      low    close   volume\n",
      "0  01-03-19   AMZN  1655.13  1674.26  1651.00  1671.73  4974877\n",
      "1  04-03-19   AMZN  1685.00  1709.43  1674.36  1696.17  6167358\n",
      "2  05-03-19   AMZN  1702.95  1707.80  1689.01  1692.43  3681522\n",
      "3  06-03-19   AMZN  1695.97      NaN      NaN  1668.95  3996001\n",
      "4  07-03-19   AMZN  1667.37  1669.75  1620.51  1625.95  4957017\n"
     ]
    }
   ],
   "source": [
    "#2 Hiển thị 5 dòng đầu tiên của stocks1 \n",
    "print(\"\\n5 dòng đầu tiên của stocks1\")\n",
    "print(stocks1.head(5))"
   ]
  },
  {
   "cell_type": "code",
   "execution_count": 13,
   "metadata": {},
   "outputs": [
    {
     "name": "stdout",
     "output_type": "stream",
     "text": [
      "\n",
      " Kiểu dữ liệu của mỗi cột:\n",
      "date       object\n",
      "symbol     object\n",
      "open      float64\n",
      "high      float64\n",
      "low       float64\n",
      "close     float64\n",
      "volume      int64\n",
      "dtype: object\n"
     ]
    }
   ],
   "source": [
    "#3 Hiển thị kiểu dữ liệu (dtype) của mỗi cột trong stocks1\n",
    "print(\"\\n Kiểu dữ liệu của mỗi cột:\")\n",
    "print(stocks1.dtypes)"
   ]
  },
  {
   "cell_type": "code",
   "execution_count": 14,
   "metadata": {},
   "outputs": [
    {
     "name": "stdout",
     "output_type": "stream",
     "text": [
      "\n",
      " Thông tin tổng quan về stocks1:\n",
      "<class 'pandas.core.frame.DataFrame'>\n",
      "RangeIndex: 15 entries, 0 to 14\n",
      "Data columns (total 7 columns):\n",
      " #   Column  Non-Null Count  Dtype  \n",
      "---  ------  --------------  -----  \n",
      " 0   date    15 non-null     object \n",
      " 1   symbol  15 non-null     object \n",
      " 2   open    15 non-null     float64\n",
      " 3   high    13 non-null     float64\n",
      " 4   low     13 non-null     float64\n",
      " 5   close   15 non-null     float64\n",
      " 6   volume  15 non-null     int64  \n",
      "dtypes: float64(4), int64(1), object(2)\n",
      "memory usage: 972.0+ bytes\n"
     ]
    }
   ],
   "source": [
    "#4 Xem thông tin tổng quan (info) của stocks1\n",
    "print(\"\\n Thông tin tổng quan về stocks1:\")\n",
    "stocks1.info()"
   ]
  },
  {
   "cell_type": "markdown",
   "metadata": {},
   "source": [
    "# 3.2 Xử lí dữ liệu Null"
   ]
  },
  {
   "cell_type": "code",
   "execution_count": 4,
   "metadata": {},
   "outputs": [
    {
     "name": "stdout",
     "output_type": "stream",
     "text": [
      "\n",
      " Kiểm tra dữ liệu Null trong stocks1:\n",
      "date      0\n",
      "symbol    0\n",
      "open      0\n",
      "high      2\n",
      "low       2\n",
      "close     0\n",
      "volume    0\n",
      "dtype: int64\n"
     ]
    }
   ],
   "source": [
    "#1 Kiểm tra stocks1 có dữ liệu Null nào hay không \n",
    "print(\"\\n Kiểm tra dữ liệu Null trong stocks1:\")\n",
    "print(stocks1.isnull().sum())\n"
   ]
  },
  {
   "cell_type": "code",
   "execution_count": 5,
   "metadata": {},
   "outputs": [
    {
     "name": "stdout",
     "output_type": "stream",
     "text": [
      "\n",
      "Đã thay thế dữ liệu Null ở cột 'high' bằng giá trị trung bình: 943.5115384615384\n"
     ]
    },
    {
     "name": "stderr",
     "output_type": "stream",
     "text": [
      "C:\\Users\\dinht\\AppData\\Local\\Temp\\ipykernel_15548\\2895039200.py:4: FutureWarning: A value is trying to be set on a copy of a DataFrame or Series through chained assignment using an inplace method.\n",
      "The behavior will change in pandas 3.0. This inplace method will never work because the intermediate object on which we are setting values always behaves as a copy.\n",
      "\n",
      "For example, when doing 'df[col].method(value, inplace=True)', try using 'df.method({col: value}, inplace=True)' or df[col] = df[col].method(value) instead, to perform the operation inplace on the original object.\n",
      "\n",
      "\n",
      "  stocks1['high'].fillna(mean_high, inplace=True)\n"
     ]
    }
   ],
   "source": [
    "#2 Thay thế dữ liệu Null ở cột high bằng giá trị trung bình ở cột high \n",
    "if 'high' in stocks1.columns:\n",
    "    mean_high = stocks1['high'].mean()\n",
    "    stocks1['high'].fillna(mean_high, inplace=True)\n",
    "    print(\"\\nĐã thay thế dữ liệu Null ở cột 'high' bằng giá trị trung bình:\", mean_high)"
   ]
  },
  {
   "cell_type": "code",
   "execution_count": 6,
   "metadata": {},
   "outputs": [
    {
     "name": "stdout",
     "output_type": "stream",
     "text": [
      "\n",
      "Đã thay thế dữ liệu Null ở cột 'low' bằng giá trị trung bình: 926.7753846153846\n"
     ]
    },
    {
     "name": "stderr",
     "output_type": "stream",
     "text": [
      "C:\\Users\\dinht\\AppData\\Local\\Temp\\ipykernel_15548\\1391813741.py:4: FutureWarning: A value is trying to be set on a copy of a DataFrame or Series through chained assignment using an inplace method.\n",
      "The behavior will change in pandas 3.0. This inplace method will never work because the intermediate object on which we are setting values always behaves as a copy.\n",
      "\n",
      "For example, when doing 'df[col].method(value, inplace=True)', try using 'df.method({col: value}, inplace=True)' or df[col] = df[col].method(value) instead, to perform the operation inplace on the original object.\n",
      "\n",
      "\n",
      "  stocks1['low'].fillna(mean_low, inplace=True)\n"
     ]
    }
   ],
   "source": [
    "#3 Thay thế dữ liệu Null ở cột low bằng giá trị trung bình của cột low\n",
    "if 'low' in stocks1.columns:\n",
    "    mean_low = stocks1['low'].mean()\n",
    "    stocks1['low'].fillna(mean_low, inplace=True)\n",
    "    print(\"\\nĐã thay thế dữ liệu Null ở cột 'low' bằng giá trị trung bình:\", mean_low)\n"
   ]
  },
  {
   "cell_type": "code",
   "execution_count": 7,
   "metadata": {},
   "outputs": [
    {
     "name": "stdout",
     "output_type": "stream",
     "text": [
      "\n",
      "Thông tin tổng quan sau khi xử lý dữ liệu Null:\n",
      "<class 'pandas.core.frame.DataFrame'>\n",
      "RangeIndex: 15 entries, 0 to 14\n",
      "Data columns (total 7 columns):\n",
      " #   Column  Non-Null Count  Dtype  \n",
      "---  ------  --------------  -----  \n",
      " 0   date    15 non-null     object \n",
      " 1   symbol  15 non-null     object \n",
      " 2   open    15 non-null     float64\n",
      " 3   high    15 non-null     float64\n",
      " 4   low     15 non-null     float64\n",
      " 5   close   15 non-null     float64\n",
      " 6   volume  15 non-null     int64  \n",
      "dtypes: float64(4), int64(1), object(2)\n",
      "memory usage: 972.0+ bytes\n"
     ]
    }
   ],
   "source": [
    "#4 Hiển thị thông tin tổng quan\n",
    "print(\"\\nThông tin tổng quan sau khi xử lý dữ liệu Null:\")\n",
    "stocks1.info()\n"
   ]
  },
  {
   "cell_type": "markdown",
   "metadata": {},
   "source": [
    "# 3.3 Gộp dữ liệu và phân tích cơ bản "
   ]
  },
  {
   "cell_type": "code",
   "execution_count": 3,
   "metadata": {},
   "outputs": [
    {
     "name": "stdout",
     "output_type": "stream",
     "text": [
      "       date symbol    open      high     low   close    volume\n",
      "0  01-03-19     FB  162.60  163.1320  161.69  162.28  11097770\n",
      "1  04-03-19     FB  163.90  167.5000  163.83  167.37  18894689\n",
      "2  05-03-19     FB  167.37  171.8800  166.55  171.26  28187890\n",
      "3  06-03-19     FB  172.90  173.5700  171.27  172.51  21531723\n",
      "4  07-03-19     FB  171.50  171.7400  167.61  169.13  18306504\n",
      "5  01-03-19   TSLA  306.94  307.1300  291.90  294.79  22911375\n",
      "6  04-03-19   TSLA  298.12  299.0000  282.78  285.36  17096818\n",
      "7  05-03-19   TSLA  282.00  284.0000  270.10  276.54  18764740\n",
      "8  06-03-19   TSLA  276.48  281.5058  274.39  276.24  10335485\n",
      "9  07-03-19   TSLA  278.84  284.7000  274.25  276.59   9442483\n"
     ]
    }
   ],
   "source": [
    "#1, Đọc file stocks2.csv vào DataFrame stocks2 \n",
    "stocks2 = pd.read_csv(r\"D:\\17A3KHDL\\LAB3\\Data\\stocks2.csv\")\n",
    "print(stocks2)"
   ]
  },
  {
   "cell_type": "code",
   "execution_count": null,
   "metadata": {},
   "outputs": [],
   "source": [
    "#2 Gộp stocks1 và stocks2 "
   ]
  },
  {
   "cell_type": "code",
   "execution_count": 4,
   "metadata": {},
   "outputs": [
    {
     "data": {
      "text/html": [
       "<div>\n",
       "<style scoped>\n",
       "    .dataframe tbody tr th:only-of-type {\n",
       "        vertical-align: middle;\n",
       "    }\n",
       "\n",
       "    .dataframe tbody tr th {\n",
       "        vertical-align: top;\n",
       "    }\n",
       "\n",
       "    .dataframe thead th {\n",
       "        text-align: right;\n",
       "    }\n",
       "</style>\n",
       "<table border=\"1\" class=\"dataframe\">\n",
       "  <thead>\n",
       "    <tr style=\"text-align: right;\">\n",
       "      <th></th>\n",
       "      <th>date</th>\n",
       "      <th>symbol</th>\n",
       "      <th>open</th>\n",
       "      <th>high</th>\n",
       "      <th>low</th>\n",
       "      <th>close</th>\n",
       "      <th>volume</th>\n",
       "    </tr>\n",
       "  </thead>\n",
       "  <tbody>\n",
       "    <tr>\n",
       "      <th>0</th>\n",
       "      <td>01-03-19</td>\n",
       "      <td>AMZN</td>\n",
       "      <td>1655.13</td>\n",
       "      <td>1674.2600</td>\n",
       "      <td>1651.00</td>\n",
       "      <td>1671.73</td>\n",
       "      <td>4974877</td>\n",
       "    </tr>\n",
       "    <tr>\n",
       "      <th>1</th>\n",
       "      <td>04-03-19</td>\n",
       "      <td>AMZN</td>\n",
       "      <td>1685.00</td>\n",
       "      <td>1709.4300</td>\n",
       "      <td>1674.36</td>\n",
       "      <td>1696.17</td>\n",
       "      <td>6167358</td>\n",
       "    </tr>\n",
       "    <tr>\n",
       "      <th>2</th>\n",
       "      <td>05-03-19</td>\n",
       "      <td>AMZN</td>\n",
       "      <td>1702.95</td>\n",
       "      <td>1707.8000</td>\n",
       "      <td>1689.01</td>\n",
       "      <td>1692.43</td>\n",
       "      <td>3681522</td>\n",
       "    </tr>\n",
       "    <tr>\n",
       "      <th>3</th>\n",
       "      <td>06-03-19</td>\n",
       "      <td>AMZN</td>\n",
       "      <td>1695.97</td>\n",
       "      <td>NaN</td>\n",
       "      <td>NaN</td>\n",
       "      <td>1668.95</td>\n",
       "      <td>3996001</td>\n",
       "    </tr>\n",
       "    <tr>\n",
       "      <th>4</th>\n",
       "      <td>07-03-19</td>\n",
       "      <td>AMZN</td>\n",
       "      <td>1667.37</td>\n",
       "      <td>1669.7500</td>\n",
       "      <td>1620.51</td>\n",
       "      <td>1625.95</td>\n",
       "      <td>4957017</td>\n",
       "    </tr>\n",
       "    <tr>\n",
       "      <th>5</th>\n",
       "      <td>01-03-19</td>\n",
       "      <td>AAPL</td>\n",
       "      <td>174.28</td>\n",
       "      <td>175.1500</td>\n",
       "      <td>172.89</td>\n",
       "      <td>174.97</td>\n",
       "      <td>25886167</td>\n",
       "    </tr>\n",
       "    <tr>\n",
       "      <th>6</th>\n",
       "      <td>04-03-19</td>\n",
       "      <td>AAPL</td>\n",
       "      <td>175.69</td>\n",
       "      <td>177.7500</td>\n",
       "      <td>173.97</td>\n",
       "      <td>175.85</td>\n",
       "      <td>27436203</td>\n",
       "    </tr>\n",
       "    <tr>\n",
       "      <th>7</th>\n",
       "      <td>05-03-19</td>\n",
       "      <td>AAPL</td>\n",
       "      <td>175.94</td>\n",
       "      <td>176.0000</td>\n",
       "      <td>174.54</td>\n",
       "      <td>175.53</td>\n",
       "      <td>19737419</td>\n",
       "    </tr>\n",
       "    <tr>\n",
       "      <th>8</th>\n",
       "      <td>06-03-19</td>\n",
       "      <td>AAPL</td>\n",
       "      <td>174.67</td>\n",
       "      <td>175.4900</td>\n",
       "      <td>173.94</td>\n",
       "      <td>174.52</td>\n",
       "      <td>20810384</td>\n",
       "    </tr>\n",
       "    <tr>\n",
       "      <th>9</th>\n",
       "      <td>07-03-19</td>\n",
       "      <td>AAPL</td>\n",
       "      <td>173.87</td>\n",
       "      <td>174.4400</td>\n",
       "      <td>172.02</td>\n",
       "      <td>172.50</td>\n",
       "      <td>24796374</td>\n",
       "    </tr>\n",
       "    <tr>\n",
       "      <th>10</th>\n",
       "      <td>01-03-19</td>\n",
       "      <td>GOOG</td>\n",
       "      <td>1124.90</td>\n",
       "      <td>1142.9700</td>\n",
       "      <td>1124.75</td>\n",
       "      <td>1140.99</td>\n",
       "      <td>1450316</td>\n",
       "    </tr>\n",
       "    <tr>\n",
       "      <th>11</th>\n",
       "      <td>04-03-19</td>\n",
       "      <td>GOOG</td>\n",
       "      <td>1146.99</td>\n",
       "      <td>1158.2800</td>\n",
       "      <td>1130.69</td>\n",
       "      <td>1147.80</td>\n",
       "      <td>1446047</td>\n",
       "    </tr>\n",
       "    <tr>\n",
       "      <th>12</th>\n",
       "      <td>05-03-19</td>\n",
       "      <td>GOOG</td>\n",
       "      <td>1150.06</td>\n",
       "      <td>NaN</td>\n",
       "      <td>NaN</td>\n",
       "      <td>1162.03</td>\n",
       "      <td>1443174</td>\n",
       "    </tr>\n",
       "    <tr>\n",
       "      <th>13</th>\n",
       "      <td>06-03-19</td>\n",
       "      <td>GOOG</td>\n",
       "      <td>1162.49</td>\n",
       "      <td>1167.5700</td>\n",
       "      <td>1155.49</td>\n",
       "      <td>1157.86</td>\n",
       "      <td>1099289</td>\n",
       "    </tr>\n",
       "    <tr>\n",
       "      <th>14</th>\n",
       "      <td>07-03-19</td>\n",
       "      <td>GOOG</td>\n",
       "      <td>1155.72</td>\n",
       "      <td>1156.7600</td>\n",
       "      <td>1134.91</td>\n",
       "      <td>1143.30</td>\n",
       "      <td>1166559</td>\n",
       "    </tr>\n",
       "    <tr>\n",
       "      <th>0</th>\n",
       "      <td>01-03-19</td>\n",
       "      <td>FB</td>\n",
       "      <td>162.60</td>\n",
       "      <td>163.1320</td>\n",
       "      <td>161.69</td>\n",
       "      <td>162.28</td>\n",
       "      <td>11097770</td>\n",
       "    </tr>\n",
       "    <tr>\n",
       "      <th>1</th>\n",
       "      <td>04-03-19</td>\n",
       "      <td>FB</td>\n",
       "      <td>163.90</td>\n",
       "      <td>167.5000</td>\n",
       "      <td>163.83</td>\n",
       "      <td>167.37</td>\n",
       "      <td>18894689</td>\n",
       "    </tr>\n",
       "    <tr>\n",
       "      <th>2</th>\n",
       "      <td>05-03-19</td>\n",
       "      <td>FB</td>\n",
       "      <td>167.37</td>\n",
       "      <td>171.8800</td>\n",
       "      <td>166.55</td>\n",
       "      <td>171.26</td>\n",
       "      <td>28187890</td>\n",
       "    </tr>\n",
       "    <tr>\n",
       "      <th>3</th>\n",
       "      <td>06-03-19</td>\n",
       "      <td>FB</td>\n",
       "      <td>172.90</td>\n",
       "      <td>173.5700</td>\n",
       "      <td>171.27</td>\n",
       "      <td>172.51</td>\n",
       "      <td>21531723</td>\n",
       "    </tr>\n",
       "    <tr>\n",
       "      <th>4</th>\n",
       "      <td>07-03-19</td>\n",
       "      <td>FB</td>\n",
       "      <td>171.50</td>\n",
       "      <td>171.7400</td>\n",
       "      <td>167.61</td>\n",
       "      <td>169.13</td>\n",
       "      <td>18306504</td>\n",
       "    </tr>\n",
       "    <tr>\n",
       "      <th>5</th>\n",
       "      <td>01-03-19</td>\n",
       "      <td>TSLA</td>\n",
       "      <td>306.94</td>\n",
       "      <td>307.1300</td>\n",
       "      <td>291.90</td>\n",
       "      <td>294.79</td>\n",
       "      <td>22911375</td>\n",
       "    </tr>\n",
       "    <tr>\n",
       "      <th>6</th>\n",
       "      <td>04-03-19</td>\n",
       "      <td>TSLA</td>\n",
       "      <td>298.12</td>\n",
       "      <td>299.0000</td>\n",
       "      <td>282.78</td>\n",
       "      <td>285.36</td>\n",
       "      <td>17096818</td>\n",
       "    </tr>\n",
       "    <tr>\n",
       "      <th>7</th>\n",
       "      <td>05-03-19</td>\n",
       "      <td>TSLA</td>\n",
       "      <td>282.00</td>\n",
       "      <td>284.0000</td>\n",
       "      <td>270.10</td>\n",
       "      <td>276.54</td>\n",
       "      <td>18764740</td>\n",
       "    </tr>\n",
       "    <tr>\n",
       "      <th>8</th>\n",
       "      <td>06-03-19</td>\n",
       "      <td>TSLA</td>\n",
       "      <td>276.48</td>\n",
       "      <td>281.5058</td>\n",
       "      <td>274.39</td>\n",
       "      <td>276.24</td>\n",
       "      <td>10335485</td>\n",
       "    </tr>\n",
       "    <tr>\n",
       "      <th>9</th>\n",
       "      <td>07-03-19</td>\n",
       "      <td>TSLA</td>\n",
       "      <td>278.84</td>\n",
       "      <td>284.7000</td>\n",
       "      <td>274.25</td>\n",
       "      <td>276.59</td>\n",
       "      <td>9442483</td>\n",
       "    </tr>\n",
       "  </tbody>\n",
       "</table>\n",
       "</div>"
      ],
      "text/plain": [
       "        date symbol     open       high      low    close    volume\n",
       "0   01-03-19   AMZN  1655.13  1674.2600  1651.00  1671.73   4974877\n",
       "1   04-03-19   AMZN  1685.00  1709.4300  1674.36  1696.17   6167358\n",
       "2   05-03-19   AMZN  1702.95  1707.8000  1689.01  1692.43   3681522\n",
       "3   06-03-19   AMZN  1695.97        NaN      NaN  1668.95   3996001\n",
       "4   07-03-19   AMZN  1667.37  1669.7500  1620.51  1625.95   4957017\n",
       "5   01-03-19   AAPL   174.28   175.1500   172.89   174.97  25886167\n",
       "6   04-03-19   AAPL   175.69   177.7500   173.97   175.85  27436203\n",
       "7   05-03-19   AAPL   175.94   176.0000   174.54   175.53  19737419\n",
       "8   06-03-19   AAPL   174.67   175.4900   173.94   174.52  20810384\n",
       "9   07-03-19   AAPL   173.87   174.4400   172.02   172.50  24796374\n",
       "10  01-03-19   GOOG  1124.90  1142.9700  1124.75  1140.99   1450316\n",
       "11  04-03-19   GOOG  1146.99  1158.2800  1130.69  1147.80   1446047\n",
       "12  05-03-19   GOOG  1150.06        NaN      NaN  1162.03   1443174\n",
       "13  06-03-19   GOOG  1162.49  1167.5700  1155.49  1157.86   1099289\n",
       "14  07-03-19   GOOG  1155.72  1156.7600  1134.91  1143.30   1166559\n",
       "0   01-03-19     FB   162.60   163.1320   161.69   162.28  11097770\n",
       "1   04-03-19     FB   163.90   167.5000   163.83   167.37  18894689\n",
       "2   05-03-19     FB   167.37   171.8800   166.55   171.26  28187890\n",
       "3   06-03-19     FB   172.90   173.5700   171.27   172.51  21531723\n",
       "4   07-03-19     FB   171.50   171.7400   167.61   169.13  18306504\n",
       "5   01-03-19   TSLA   306.94   307.1300   291.90   294.79  22911375\n",
       "6   04-03-19   TSLA   298.12   299.0000   282.78   285.36  17096818\n",
       "7   05-03-19   TSLA   282.00   284.0000   270.10   276.54  18764740\n",
       "8   06-03-19   TSLA   276.48   281.5058   274.39   276.24  10335485\n",
       "9   07-03-19   TSLA   278.84   284.7000   274.25   276.59   9442483"
      ]
     },
     "execution_count": 4,
     "metadata": {},
     "output_type": "execute_result"
    }
   ],
   "source": [
    "stocks = pd.concat([stocks1, stocks2])\n",
    "stocks"
   ]
  },
  {
   "cell_type": "code",
   "execution_count": 12,
   "metadata": {},
   "outputs": [
    {
     "name": "stderr",
     "output_type": "stream",
     "text": [
      "C:\\Users\\dinht\\AppData\\Local\\Temp\\ipykernel_15548\\3217996371.py:2: UserWarning: Could not infer format, so each element will be parsed individually, falling back to `dateutil`. To ensure parsing is consistent and as-expected, please specify a format.\n",
      "  stocks['date'] = pd.to_datetime(stocks['date'])  # Đảm bảo cột 'date' là kiểu datetime\n"
     ]
    },
    {
     "data": {
      "text/html": [
       "<div>\n",
       "<style scoped>\n",
       "    .dataframe tbody tr th:only-of-type {\n",
       "        vertical-align: middle;\n",
       "    }\n",
       "\n",
       "    .dataframe tbody tr th {\n",
       "        vertical-align: top;\n",
       "    }\n",
       "\n",
       "    .dataframe thead th {\n",
       "        text-align: right;\n",
       "    }\n",
       "</style>\n",
       "<table border=\"1\" class=\"dataframe\">\n",
       "  <thead>\n",
       "    <tr style=\"text-align: right;\">\n",
       "      <th></th>\n",
       "      <th>date</th>\n",
       "      <th>open</th>\n",
       "      <th>high</th>\n",
       "      <th>low</th>\n",
       "      <th>close</th>\n",
       "    </tr>\n",
       "  </thead>\n",
       "  <tbody>\n",
       "    <tr>\n",
       "      <th>0</th>\n",
       "      <td>2019-01-03</td>\n",
       "      <td>684.770</td>\n",
       "      <td>692.528400</td>\n",
       "      <td>680.446000</td>\n",
       "      <td>688.952</td>\n",
       "    </tr>\n",
       "    <tr>\n",
       "      <th>1</th>\n",
       "      <td>2019-04-03</td>\n",
       "      <td>693.940</td>\n",
       "      <td>702.392000</td>\n",
       "      <td>685.126000</td>\n",
       "      <td>694.510</td>\n",
       "    </tr>\n",
       "    <tr>\n",
       "      <th>2</th>\n",
       "      <td>2019-05-03</td>\n",
       "      <td>695.664</td>\n",
       "      <td>656.638308</td>\n",
       "      <td>645.395077</td>\n",
       "      <td>695.558</td>\n",
       "    </tr>\n",
       "    <tr>\n",
       "      <th>3</th>\n",
       "      <td>2019-06-03</td>\n",
       "      <td>696.502</td>\n",
       "      <td>548.329468</td>\n",
       "      <td>540.373077</td>\n",
       "      <td>690.016</td>\n",
       "    </tr>\n",
       "    <tr>\n",
       "      <th>4</th>\n",
       "      <td>2019-07-03</td>\n",
       "      <td>689.460</td>\n",
       "      <td>691.478000</td>\n",
       "      <td>673.860000</td>\n",
       "      <td>677.494</td>\n",
       "    </tr>\n",
       "  </tbody>\n",
       "</table>\n",
       "</div>"
      ],
      "text/plain": [
       "        date     open        high         low    close\n",
       "0 2019-01-03  684.770  692.528400  680.446000  688.952\n",
       "1 2019-04-03  693.940  702.392000  685.126000  694.510\n",
       "2 2019-05-03  695.664  656.638308  645.395077  695.558\n",
       "3 2019-06-03  696.502  548.329468  540.373077  690.016\n",
       "4 2019-07-03  689.460  691.478000  673.860000  677.494"
      ]
     },
     "execution_count": 12,
     "metadata": {},
     "output_type": "execute_result"
    }
   ],
   "source": [
    "#3 Tính giá trung bình (open, high, low, close) cho mỗi ngày\n",
    "stocks['date'] = pd.to_datetime(stocks['date'])  # Đảm bảo cột 'date' là kiểu datetime\n",
    "daily_avg = stocks.groupby('date')[['open', 'high', 'low', 'close']].mean().reset_index()\n",
    "daily_avg"
   ]
  },
  {
   "cell_type": "code",
   "execution_count": 14,
   "metadata": {},
   "outputs": [
    {
     "name": "stdout",
     "output_type": "stream",
     "text": [
      "\n",
      " 5 dòng đầu tiên của kết quả\n",
      "        date     open        high         low    close\n",
      "0 2019-01-03  684.770  692.528400  680.446000  688.952\n",
      "1 2019-04-03  693.940  702.392000  685.126000  694.510\n",
      "2 2019-05-03  695.664  656.638308  645.395077  695.558\n",
      "3 2019-06-03  696.502  548.329468  540.373077  690.016\n",
      "4 2019-07-03  689.460  691.478000  673.860000  677.494\n"
     ]
    }
   ],
   "source": [
    "#4 Hiển thị 5 dòng đầu tiên của kết quả\n",
    "print(\"\\n 5 dòng đầu tiên của kết quả\")\n",
    "print(daily_avg.head())"
   ]
  },
  {
   "cell_type": "markdown",
   "metadata": {},
   "source": [
    "# Lab 3.4 Kết hợp dữ liệu từ nhiều nguồn "
   ]
  },
  {
   "cell_type": "code",
   "execution_count": 2,
   "metadata": {},
   "outputs": [
    {
     "data": {
      "text/html": [
       "<div>\n",
       "<style scoped>\n",
       "    .dataframe tbody tr th:only-of-type {\n",
       "        vertical-align: middle;\n",
       "    }\n",
       "\n",
       "    .dataframe tbody tr th {\n",
       "        vertical-align: top;\n",
       "    }\n",
       "\n",
       "    .dataframe thead th {\n",
       "        text-align: right;\n",
       "    }\n",
       "</style>\n",
       "<table border=\"1\" class=\"dataframe\">\n",
       "  <thead>\n",
       "    <tr style=\"text-align: right;\">\n",
       "      <th></th>\n",
       "      <th>name</th>\n",
       "      <th>employees</th>\n",
       "      <th>headquarters_city</th>\n",
       "      <th>headquarters_state</th>\n",
       "    </tr>\n",
       "  </thead>\n",
       "  <tbody>\n",
       "    <tr>\n",
       "      <th>0</th>\n",
       "      <td>AMZN</td>\n",
       "      <td>613300</td>\n",
       "      <td>Seattle</td>\n",
       "      <td>WA</td>\n",
       "    </tr>\n",
       "    <tr>\n",
       "      <th>1</th>\n",
       "      <td>GOOG</td>\n",
       "      <td>98771</td>\n",
       "      <td>Mountain View</td>\n",
       "      <td>CA</td>\n",
       "    </tr>\n",
       "    <tr>\n",
       "      <th>2</th>\n",
       "      <td>AAPL</td>\n",
       "      <td>132000</td>\n",
       "      <td>Cupertino</td>\n",
       "      <td>CA</td>\n",
       "    </tr>\n",
       "    <tr>\n",
       "      <th>3</th>\n",
       "      <td>FB</td>\n",
       "      <td>48268</td>\n",
       "      <td>Menlo Park</td>\n",
       "      <td>CA</td>\n",
       "    </tr>\n",
       "    <tr>\n",
       "      <th>4</th>\n",
       "      <td>TSLA</td>\n",
       "      <td>48016</td>\n",
       "      <td>Palo Alto</td>\n",
       "      <td>CA</td>\n",
       "    </tr>\n",
       "  </tbody>\n",
       "</table>\n",
       "</div>"
      ],
      "text/plain": [
       "   name  employees headquarters_city headquarters_state\n",
       "0  AMZN     613300           Seattle                 WA\n",
       "1  GOOG      98771     Mountain View                 CA\n",
       "2  AAPL     132000         Cupertino                 CA\n",
       "3    FB      48268        Menlo Park                 CA\n",
       "4  TSLA      48016         Palo Alto                 CA"
      ]
     },
     "execution_count": 2,
     "metadata": {},
     "output_type": "execute_result"
    }
   ],
   "source": [
    "#1 Đọc file companies.csv vào DataFrame companies\n",
    "companies = pd.read_csv(r\"D:\\17A3KHDL\\LAB3\\Data\\companies.csv\")\n",
    "companies"
   ]
  },
  {
   "cell_type": "code",
   "execution_count": 3,
   "metadata": {},
   "outputs": [
    {
     "name": "stdout",
     "output_type": "stream",
     "text": [
      "\n",
      " 5 dòng đầu tiên là:    name  employees headquarters_city headquarters_state\n",
      "0  AMZN     613300           Seattle                 WA\n",
      "1  GOOG      98771     Mountain View                 CA\n",
      "2  AAPL     132000         Cupertino                 CA\n",
      "3    FB      48268        Menlo Park                 CA\n",
      "4  TSLA      48016         Palo Alto                 CA\n"
     ]
    }
   ],
   "source": [
    "# Hiển thị 5 dòng đầu tiên\n",
    "print(\"\\n 5 dòng đầu tiên là:\", companies.head())"
   ]
  },
  {
   "cell_type": "code",
   "execution_count": null,
   "metadata": {},
   "outputs": [],
   "source": [
    "# Kết hợp stocks và companies dựa trên cột chung là symbol \n",
    "ket_hop = pd.merge(stocks, companies, on='symbol', how='inner')\n",
    "ket_hop\n",
    "# Ở file companies không có cột symbol nên không kết hợp được trên cột symbol "
   ]
  },
  {
   "cell_type": "code",
   "execution_count": null,
   "metadata": {},
   "outputs": [],
   "source": [
    "# Tính giá đóng cửa trung bình \n",
    "# Thiếu cột dữ liệu "
   ]
  },
  {
   "cell_type": "code",
   "execution_count": null,
   "metadata": {},
   "outputs": [],
   "source": [
    "# 1. Tạo MultiIndex cho DataFrame bằng cột 'date' và 'symbol'\n",
    "stocks.set_index(['date', 'symbol'], inplace=True)\n"
   ]
  },
  {
   "cell_type": "code",
   "execution_count": 7,
   "metadata": {},
   "outputs": [
    {
     "name": "stdout",
     "output_type": "stream",
     "text": [
      "Index(['open', 'high', 'low', 'close', 'volume'], dtype='object')\n"
     ]
    }
   ],
   "source": [
    "print(stocks.columns)"
   ]
  }
 ],
 "metadata": {
  "kernelspec": {
   "display_name": "Python 3",
   "language": "python",
   "name": "python3"
  },
  "language_info": {
   "codemirror_mode": {
    "name": "ipython",
    "version": 3
   },
   "file_extension": ".py",
   "mimetype": "text/x-python",
   "name": "python",
   "nbconvert_exporter": "python",
   "pygments_lexer": "ipython3",
   "version": "3.12.0"
  }
 },
 "nbformat": 4,
 "nbformat_minor": 2
}
