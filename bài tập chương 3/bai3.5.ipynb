{
 "cells": [
  {
   "cell_type": "code",
   "execution_count": null,
   "metadata": {
    "vscode": {
     "languageId": "plaintext"
    }
   },
   "outputs": [],
   "source": [
    "Cho tập tin dữ liệu heights_1.txt, weights_1.txt hãy chép dữ liệu từ tập tin này vào list là height, weight, và thực hiện các yêu \n",
    "cầu sau:\n",
    "1, Tạo numpy array arr_height từ list height\n",
    "2, Tạo numpy array arr_weight từ list weight \n",
    "3, Cho hệ số quy đổi từ inch sang m là 0,0254, tạo arr_height_m dựa trên công thức: arr_height* hệ số quy đổi \n",
    "4, Cho hệ số quy đổi từ pound sang kg là 0.453592, tạo arr_weight_kg dựa trên công thức: arr_weight * hệ số quy đổi \n",
    "5, Tính BMI của arr_height_m và arr_weight_kg theo công thức BMI = Cân nặng /(Chiều cao*chiều cao), và lưu vào arr_bmi\n",
    "6, Cho biết giá trị cân nặng ở vị trí index = 50 trong arr_weight_kg\n",
    "7, Tạo arr_height_m_100 gồm các phần tử có vị trí index từ 100 đến 110 (lấy cả index 110) trong arr_height_m\n",
    "8, Cho biết các cầu thủ bóng chày có bmi<21 trong arr_bmi \n",
    "9, Cho biết chiều cao trung bình và cân nặng trung bình của các cầu thủ\n",
    "10, Cho biết chiều cao và cân nặng lớn nhất của các cầu thủ \n",
    "11, Cho biết chiều cao cân nặng nhỏ nhất của các cầu thủ "
   ]
  },
  {
   "cell_type": "code",
   "execution_count": null,
   "metadata": {
    "vscode": {
     "languageId": "plaintext"
    }
   },
   "outputs": [],
   "source": []
  }
 ],
 "metadata": {
  "language_info": {
   "name": "python"
  }
 },
 "nbformat": 4,
 "nbformat_minor": 2
}
