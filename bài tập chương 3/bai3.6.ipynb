{
 "cells": [
  {
   "cell_type": "markdown",
   "metadata": {},
   "source": [
    "Thao tác trên mảng nhiều chiều: \n",
    "Viết chương trình thực hiện những yêu cầu sau:\n",
    "1, tạo array arr có kích thước 3x3 với các giá trị True \n",
    "2, Cho arr_1D = np.array([0,1,2,3,4,5,6,7,8]). Tạo array 2 chiều có kích thước 3x3 từ arr_1D\n",
    "và lưu vào arr_2D trong arr_2D, chuyển cột 1 sang cột 3 và ngược lại \n",
    "3, Từ arr_2D của câu 2(sau khi đổi thứ tự cột) chuyển dòng 1 sang dòng 2 và ngược lại \n",
    "4, Từ arr_2D của câu 3, đảo ngược các dòng của add_2D \n",
    "5, Từ arr_2D của câu 4, đảo ngược các cột của arr_2D\n",
    "6, Cho arr_2D_null = np.array([[1,2,3], [np.NaN,5,6], [7,np.NaN,9], [4,5,6]]) Kiểm tra trong array có giá trị rỗng không \n",
    "7, Từ arr_2D_null của câu 6, thay thế giá trị null = 0 "
   ]
  },
  {
   "cell_type": "code",
   "execution_count": null,
   "metadata": {
    "vscode": {
     "languageId": "plaintext"
    }
   },
   "outputs": [],
   "source": []
  }
 ],
 "metadata": {
  "language_info": {
   "name": "python"
  }
 },
 "nbformat": 4,
 "nbformat_minor": 2
}
